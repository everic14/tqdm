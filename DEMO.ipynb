{
 "cells": [
  {
   "cell_type": "markdown",
   "metadata": {},
   "source": [
    "![](https://raw.githubusercontent.com/tqdm/tqdm/master/images/logo.gif)"
   ]
  },
  {
   "cell_type": "markdown",
   "metadata": {},
   "source": [
    "# tqdm "
   ]
  },
  {
   "cell_type": "markdown",
   "metadata": {},
   "source": [
    "`tqdm` means \"progress\" in Arabic (taqadum, تقدّم) and is an abbreviation for \"I love you so much\" in Spanish (te quiero demasiado)."
   ]
  },
  {
   "cell_type": "markdown",
   "metadata": {},
   "source": [
    "![](https://raw.githubusercontent.com/tqdm/tqdm/master/images/tqdm.gif)"
   ]
  },
  {
   "cell_type": "markdown",
   "metadata": {},
   "source": [
    "---"
   ]
  },
  {
   "cell_type": "markdown",
   "metadata": {},
   "source": [
    "## Usage\n",
    "\n",
    "`tqdm` is very versatile and can be used in a number of ways. The three main ones are given below."
   ]
  },
  {
   "cell_type": "markdown",
   "metadata": {},
   "source": [
    "### Iterable-based\n",
    "\n",
    "Wrap `tqdm()` around any iterable:"
   ]
  },
  {
   "cell_type": "code",
   "execution_count": 14,
   "metadata": {},
   "outputs": [],
   "source": [
    "from tqdm import tqdm"
   ]
  },
  {
   "cell_type": "code",
   "execution_count": 15,
   "metadata": {},
   "outputs": [
    {
     "name": "stderr",
     "output_type": "stream",
     "text": [
      "100%|██████████| 4/4 [00:01<00:00,  3.93it/s]\n"
     ]
    }
   ],
   "source": [
    "import time\n",
    "\n",
    "text = \"\"\n",
    "for char in tqdm([\"a\", \"b\", \"c\", \"d\"]):\n",
    "    time.sleep(0.25)\n",
    "    text = text + char"
   ]
  },
  {
   "cell_type": "markdown",
   "metadata": {},
   "source": [
    "`trange(i)` is a special optimised instance of `tqdm(range(i))`:"
   ]
  },
  {
   "cell_type": "code",
   "execution_count": 16,
   "metadata": {},
   "outputs": [
    {
     "name": "stderr",
     "output_type": "stream",
     "text": [
      "100%|██████████| 1000000/1000000 [00:00<00:00, 1849858.32it/s]\n"
     ]
    }
   ],
   "source": [
    "from tqdm import trange\n",
    "\n",
    "for i in trange(1_000_000):\n",
    "    pass"
   ]
  },
  {
   "cell_type": "markdown",
   "metadata": {},
   "source": [
    "Instantiation outside of the loop allows for manual control over `tqdm()`:"
   ]
  },
  {
   "cell_type": "code",
   "execution_count": 17,
   "metadata": {},
   "outputs": [
    {
     "name": "stderr",
     "output_type": "stream",
     "text": [
      "Processing d: 100%|██████████| 4/4 [00:01<00:00,  3.90it/s]\n"
     ]
    }
   ],
   "source": [
    "pbar = tqdm([\"a\", \"b\", \"c\", \"d\"])\n",
    "for char in pbar:\n",
    "    time.sleep(0.25)\n",
    "    pbar.set_description(\"Processing %s\" % char)"
   ]
  },
  {
   "cell_type": "markdown",
   "metadata": {},
   "source": [
    "### Manual\n",
    "\n",
    "Manual control on `tqdm()` updates by using a with statement:"
   ]
  },
  {
   "cell_type": "code",
   "execution_count": 18,
   "metadata": {},
   "outputs": [
    {
     "name": "stderr",
     "output_type": "stream",
     "text": [
      "100%|██████████| 100/100 [00:02<00:00, 39.11it/s]\n"
     ]
    }
   ],
   "source": [
    "with tqdm(total=100) as pbar:\n",
    "    for i in range(10):\n",
    "        time.sleep(0.25)\n",
    "        pbar.update(10)"
   ]
  },
  {
   "cell_type": "markdown",
   "metadata": {},
   "source": [
    "If the optional variable total (or an iterable with `len()`) is provided, predictive stats are displayed.\n",
    "\n",
    "`with` is also optional (you can just assign `tqdm()` to a variable, but in this case don't forget to `del` or `close()` at the end:"
   ]
  },
  {
   "cell_type": "code",
   "execution_count": 19,
   "metadata": {},
   "outputs": [
    {
     "name": "stderr",
     "output_type": "stream",
     "text": [
      "100%|██████████| 100/100 [00:02<00:00, 39.24it/s]\n"
     ]
    }
   ],
   "source": [
    "pbar = tqdm(total=100)\n",
    "for i in range(10):\n",
    "    time.sleep(0.25)\n",
    "    pbar.update(10)\n",
    "pbar.close()"
   ]
  },
  {
   "cell_type": "markdown",
   "metadata": {},
   "source": [
    "It can also be executed as a module with pipes:"
   ]
  },
  {
   "cell_type": "code",
   "execution_count": 20,
   "metadata": {},
   "outputs": [
    {
     "name": "stdout",
     "output_type": "stream",
     "text": [
      "1.00Mit [00:00, 1.17Mit/s]\n",
      "  999999\n"
     ]
    }
   ],
   "source": [
    "! seq 999999 | tqdm --unit_scale | wc -l"
   ]
  },
  {
   "cell_type": "markdown",
   "metadata": {},
   "source": [
    "## Advance usage"
   ]
  },
  {
   "cell_type": "markdown",
   "metadata": {},
   "source": [
    "### Description and additional stats\n",
    "\n",
    "Custom information can be displayed and updated dynamically on `tqdm` bars with the `desc` and `postfix` arguments:"
   ]
  },
  {
   "cell_type": "code",
   "execution_count": 21,
   "metadata": {},
   "outputs": [
    {
     "name": "stderr",
     "output_type": "stream",
     "text": [
      "GEN 99: 100%|██████████| 100/100 [00:11<00:00,  8.98it/s, gen=406, loss=0.256, lst=[1, 2], str=h]\n",
      "Batch      4.5\n"
     ]
    }
   ],
   "source": [
    "from tqdm import trange\n",
    "from random import random, randint\n",
    "from time import sleep\n",
    "\n",
    "with trange(100) as t:\n",
    "    for i in t:\n",
    "        # Description will be displayed on the left\n",
    "        t.set_description('GEN %i' % i)\n",
    "        # Postfix will be displayed on the right,\n",
    "        # formatted automatically based on argument's datatype\n",
    "        t.set_postfix(loss=random(), gen=randint(1,999), str='h',\n",
    "                      lst=[1, 2])\n",
    "        sleep(0.1)\n",
    "\n",
    "with tqdm(total=10, bar_format=\"{postfix[0]} {postfix[1][value]:>8.2g}\",\n",
    "          postfix=[\"Batch\", dict(value=0)]) as t:\n",
    "    for i in range(10):\n",
    "        sleep(0.1)\n",
    "        t.postfix[1][\"value\"] = i / 2\n",
    "        t.update()"
   ]
  },
  {
   "cell_type": "markdown",
   "metadata": {},
   "source": [
    "### Nested progress bars\n",
    "\n",
    "`tqdm` supports nested progress bars. Here's an example:"
   ]
  },
  {
   "cell_type": "code",
   "execution_count": 22,
   "metadata": {},
   "outputs": [
    {
     "name": "stderr",
     "output_type": "stream",
     "text": [
      "1st loop:   0%|          | 0/3 [00:00<?, ?it/s]\n",
      "2nd loop:   0%|          | 0/50 [00:00<?, ?it/s]\u001b[A\n",
      "2nd loop:  18%|█▊        | 9/50 [00:00<00:00, 89.19it/s]\u001b[A\n",
      "2nd loop:  36%|███▌      | 18/50 [00:00<00:00, 86.87it/s]\u001b[A\n",
      "2nd loop:  54%|█████▍    | 27/50 [00:00<00:00, 85.07it/s]\u001b[A\n",
      "2nd loop:  72%|███████▏  | 36/50 [00:00<00:00, 85.11it/s]\u001b[A\n",
      "2nd loop:  90%|█████████ | 45/50 [00:00<00:00, 84.92it/s]\u001b[A\n",
      "1st loop:  33%|███▎      | 1/3 [00:00<00:01,  1.65it/s]\n",
      "2nd loop:   0%|          | 0/50 [00:00<?, ?it/s]\u001b[A\n",
      "2nd loop:  18%|█▊        | 9/50 [00:00<00:00, 84.66it/s]\u001b[A\n",
      "2nd loop:  36%|███▌      | 18/50 [00:00<00:00, 85.22it/s]\u001b[A\n",
      "2nd loop:  54%|█████▍    | 27/50 [00:00<00:00, 85.05it/s]\u001b[A\n",
      "2nd loop:  72%|███████▏  | 36/50 [00:00<00:00, 85.11it/s]\u001b[A\n",
      "2nd loop:  88%|████████▊ | 44/50 [00:00<00:00, 83.41it/s]\u001b[A\n",
      "1st loop:  67%|██████▋   | 2/3 [00:01<00:00,  1.66it/s]\n",
      "2nd loop:   0%|          | 0/50 [00:00<?, ?it/s]\u001b[A\n",
      "2nd loop:  18%|█▊        | 9/50 [00:00<00:00, 87.80it/s]\u001b[A\n",
      "2nd loop:  36%|███▌      | 18/50 [00:00<00:00, 87.46it/s]\u001b[A\n",
      "2nd loop:  54%|█████▍    | 27/50 [00:00<00:00, 86.41it/s]\u001b[A\n",
      "2nd loop:  72%|███████▏  | 36/50 [00:00<00:00, 86.93it/s]\u001b[A\n",
      "2nd loop:  90%|█████████ | 45/50 [00:00<00:00, 86.37it/s]\u001b[A\n",
      "1st loop: 100%|██████████| 3/3 [00:01<00:00,  1.67it/s]\n"
     ]
    }
   ],
   "source": [
    "from tqdm import trange\n",
    "from time import sleep\n",
    "\n",
    "for i in trange(3, desc='1st loop'):\n",
    "    for j in trange(50, desc='2nd loop', leave=False):\n",
    "        sleep(0.01)"
   ]
  },
  {
   "cell_type": "markdown",
   "metadata": {},
   "source": [
    "### Pandas Integration\n",
    "\n",
    "Due to popular demand we've added support for `pandas` -- here's an example for `DataFrame.progress_apply` and `DataFrameGroupBy.progress_apply`:"
   ]
  },
  {
   "cell_type": "code",
   "execution_count": 24,
   "metadata": {},
   "outputs": [
    {
     "name": "stderr",
     "output_type": "stream",
     "text": [
      "my bar!: 100%|██████████| 6/6 [00:00<00:00, 411.54it/s]\n"
     ]
    },
    {
     "data": {
      "text/html": [
       "<div>\n",
       "<style scoped>\n",
       "    .dataframe tbody tr th:only-of-type {\n",
       "        vertical-align: middle;\n",
       "    }\n",
       "\n",
       "    .dataframe tbody tr th {\n",
       "        vertical-align: top;\n",
       "    }\n",
       "\n",
       "    .dataframe thead th {\n",
       "        text-align: right;\n",
       "    }\n",
       "</style>\n",
       "<table border=\"1\" class=\"dataframe\">\n",
       "  <thead>\n",
       "    <tr style=\"text-align: right;\">\n",
       "      <th></th>\n",
       "      <th>0</th>\n",
       "      <th>1</th>\n",
       "      <th>2</th>\n",
       "      <th>3</th>\n",
       "      <th>4</th>\n",
       "      <th>5</th>\n",
       "    </tr>\n",
       "  </thead>\n",
       "  <tbody>\n",
       "    <tr>\n",
       "      <th>0</th>\n",
       "      <td>961</td>\n",
       "      <td>64</td>\n",
       "      <td>1764</td>\n",
       "      <td>5776</td>\n",
       "      <td>400</td>\n",
       "      <td>6889</td>\n",
       "    </tr>\n",
       "    <tr>\n",
       "      <th>1</th>\n",
       "      <td>6084</td>\n",
       "      <td>1444</td>\n",
       "      <td>625</td>\n",
       "      <td>529</td>\n",
       "      <td>4624</td>\n",
       "      <td>4225</td>\n",
       "    </tr>\n",
       "    <tr>\n",
       "      <th>2</th>\n",
       "      <td>5625</td>\n",
       "      <td>9216</td>\n",
       "      <td>6084</td>\n",
       "      <td>961</td>\n",
       "      <td>8100</td>\n",
       "      <td>5476</td>\n",
       "    </tr>\n",
       "    <tr>\n",
       "      <th>3</th>\n",
       "      <td>7744</td>\n",
       "      <td>2304</td>\n",
       "      <td>6561</td>\n",
       "      <td>7396</td>\n",
       "      <td>400</td>\n",
       "      <td>8100</td>\n",
       "    </tr>\n",
       "    <tr>\n",
       "      <th>4</th>\n",
       "      <td>2025</td>\n",
       "      <td>3969</td>\n",
       "      <td>1</td>\n",
       "      <td>1156</td>\n",
       "      <td>1681</td>\n",
       "      <td>196</td>\n",
       "    </tr>\n",
       "    <tr>\n",
       "      <th>5</th>\n",
       "      <td>3136</td>\n",
       "      <td>1764</td>\n",
       "      <td>16</td>\n",
       "      <td>49</td>\n",
       "      <td>9216</td>\n",
       "      <td>25</td>\n",
       "    </tr>\n",
       "    <tr>\n",
       "      <th>6</th>\n",
       "      <td>6889</td>\n",
       "      <td>7569</td>\n",
       "      <td>7225</td>\n",
       "      <td>5041</td>\n",
       "      <td>400</td>\n",
       "      <td>361</td>\n",
       "    </tr>\n",
       "    <tr>\n",
       "      <th>7</th>\n",
       "      <td>64</td>\n",
       "      <td>144</td>\n",
       "      <td>6241</td>\n",
       "      <td>1681</td>\n",
       "      <td>6561</td>\n",
       "      <td>3364</td>\n",
       "    </tr>\n",
       "    <tr>\n",
       "      <th>8</th>\n",
       "      <td>4761</td>\n",
       "      <td>1764</td>\n",
       "      <td>9604</td>\n",
       "      <td>8836</td>\n",
       "      <td>1296</td>\n",
       "      <td>2809</td>\n",
       "    </tr>\n",
       "    <tr>\n",
       "      <th>9</th>\n",
       "      <td>2601</td>\n",
       "      <td>289</td>\n",
       "      <td>484</td>\n",
       "      <td>2209</td>\n",
       "      <td>1024</td>\n",
       "      <td>1849</td>\n",
       "    </tr>\n",
       "    <tr>\n",
       "      <th>10</th>\n",
       "      <td>36</td>\n",
       "      <td>16</td>\n",
       "      <td>36</td>\n",
       "      <td>3844</td>\n",
       "      <td>3844</td>\n",
       "      <td>1521</td>\n",
       "    </tr>\n",
       "    <tr>\n",
       "      <th>11</th>\n",
       "      <td>8281</td>\n",
       "      <td>2916</td>\n",
       "      <td>3721</td>\n",
       "      <td>4356</td>\n",
       "      <td>9</td>\n",
       "      <td>5625</td>\n",
       "    </tr>\n",
       "    <tr>\n",
       "      <th>12</th>\n",
       "      <td>841</td>\n",
       "      <td>169</td>\n",
       "      <td>6889</td>\n",
       "      <td>8281</td>\n",
       "      <td>9</td>\n",
       "      <td>441</td>\n",
       "    </tr>\n",
       "    <tr>\n",
       "      <th>13</th>\n",
       "      <td>256</td>\n",
       "      <td>8100</td>\n",
       "      <td>529</td>\n",
       "      <td>4096</td>\n",
       "      <td>2704</td>\n",
       "      <td>4761</td>\n",
       "    </tr>\n",
       "    <tr>\n",
       "      <th>14</th>\n",
       "      <td>5476</td>\n",
       "      <td>841</td>\n",
       "      <td>1024</td>\n",
       "      <td>81</td>\n",
       "      <td>1849</td>\n",
       "      <td>441</td>\n",
       "    </tr>\n",
       "    <tr>\n",
       "      <th>15</th>\n",
       "      <td>9</td>\n",
       "      <td>9801</td>\n",
       "      <td>3844</td>\n",
       "      <td>196</td>\n",
       "      <td>3600</td>\n",
       "      <td>144</td>\n",
       "    </tr>\n",
       "    <tr>\n",
       "      <th>16</th>\n",
       "      <td>9801</td>\n",
       "      <td>2809</td>\n",
       "      <td>7569</td>\n",
       "      <td>676</td>\n",
       "      <td>7396</td>\n",
       "      <td>7056</td>\n",
       "    </tr>\n",
       "    <tr>\n",
       "      <th>17</th>\n",
       "      <td>1296</td>\n",
       "      <td>784</td>\n",
       "      <td>3969</td>\n",
       "      <td>4900</td>\n",
       "      <td>576</td>\n",
       "      <td>3721</td>\n",
       "    </tr>\n",
       "    <tr>\n",
       "      <th>18</th>\n",
       "      <td>8100</td>\n",
       "      <td>9</td>\n",
       "      <td>1296</td>\n",
       "      <td>7056</td>\n",
       "      <td>1521</td>\n",
       "      <td>9</td>\n",
       "    </tr>\n",
       "    <tr>\n",
       "      <th>19</th>\n",
       "      <td>2209</td>\n",
       "      <td>7056</td>\n",
       "      <td>1089</td>\n",
       "      <td>7396</td>\n",
       "      <td>1681</td>\n",
       "      <td>4489</td>\n",
       "    </tr>\n",
       "    <tr>\n",
       "      <th>20</th>\n",
       "      <td>625</td>\n",
       "      <td>2500</td>\n",
       "      <td>4356</td>\n",
       "      <td>441</td>\n",
       "      <td>25</td>\n",
       "      <td>4096</td>\n",
       "    </tr>\n",
       "    <tr>\n",
       "      <th>21</th>\n",
       "      <td>25</td>\n",
       "      <td>16</td>\n",
       "      <td>1849</td>\n",
       "      <td>3136</td>\n",
       "      <td>8836</td>\n",
       "      <td>5476</td>\n",
       "    </tr>\n",
       "    <tr>\n",
       "      <th>22</th>\n",
       "      <td>256</td>\n",
       "      <td>3721</td>\n",
       "      <td>3364</td>\n",
       "      <td>169</td>\n",
       "      <td>9604</td>\n",
       "      <td>4489</td>\n",
       "    </tr>\n",
       "    <tr>\n",
       "      <th>23</th>\n",
       "      <td>4096</td>\n",
       "      <td>81</td>\n",
       "      <td>9604</td>\n",
       "      <td>625</td>\n",
       "      <td>529</td>\n",
       "      <td>4489</td>\n",
       "    </tr>\n",
       "    <tr>\n",
       "      <th>24</th>\n",
       "      <td>2116</td>\n",
       "      <td>4489</td>\n",
       "      <td>1156</td>\n",
       "      <td>8649</td>\n",
       "      <td>5929</td>\n",
       "      <td>900</td>\n",
       "    </tr>\n",
       "    <tr>\n",
       "      <th>25</th>\n",
       "      <td>3721</td>\n",
       "      <td>1764</td>\n",
       "      <td>5476</td>\n",
       "      <td>5625</td>\n",
       "      <td>3844</td>\n",
       "      <td>9216</td>\n",
       "    </tr>\n",
       "    <tr>\n",
       "      <th>26</th>\n",
       "      <td>1296</td>\n",
       "      <td>441</td>\n",
       "      <td>1296</td>\n",
       "      <td>324</td>\n",
       "      <td>1296</td>\n",
       "      <td>4096</td>\n",
       "    </tr>\n",
       "    <tr>\n",
       "      <th>27</th>\n",
       "      <td>400</td>\n",
       "      <td>7225</td>\n",
       "      <td>7744</td>\n",
       "      <td>1681</td>\n",
       "      <td>361</td>\n",
       "      <td>441</td>\n",
       "    </tr>\n",
       "    <tr>\n",
       "      <th>28</th>\n",
       "      <td>7056</td>\n",
       "      <td>7225</td>\n",
       "      <td>400</td>\n",
       "      <td>5625</td>\n",
       "      <td>3721</td>\n",
       "      <td>1369</td>\n",
       "    </tr>\n",
       "    <tr>\n",
       "      <th>29</th>\n",
       "      <td>1024</td>\n",
       "      <td>400</td>\n",
       "      <td>900</td>\n",
       "      <td>289</td>\n",
       "      <td>4624</td>\n",
       "      <td>4</td>\n",
       "    </tr>\n",
       "    <tr>\n",
       "      <th>...</th>\n",
       "      <td>...</td>\n",
       "      <td>...</td>\n",
       "      <td>...</td>\n",
       "      <td>...</td>\n",
       "      <td>...</td>\n",
       "      <td>...</td>\n",
       "    </tr>\n",
       "    <tr>\n",
       "      <th>9970</th>\n",
       "      <td>289</td>\n",
       "      <td>3969</td>\n",
       "      <td>729</td>\n",
       "      <td>81</td>\n",
       "      <td>529</td>\n",
       "      <td>5625</td>\n",
       "    </tr>\n",
       "    <tr>\n",
       "      <th>9971</th>\n",
       "      <td>4761</td>\n",
       "      <td>400</td>\n",
       "      <td>8836</td>\n",
       "      <td>9025</td>\n",
       "      <td>9216</td>\n",
       "      <td>3481</td>\n",
       "    </tr>\n",
       "    <tr>\n",
       "      <th>9972</th>\n",
       "      <td>289</td>\n",
       "      <td>2025</td>\n",
       "      <td>8100</td>\n",
       "      <td>7921</td>\n",
       "      <td>3844</td>\n",
       "      <td>1444</td>\n",
       "    </tr>\n",
       "    <tr>\n",
       "      <th>9973</th>\n",
       "      <td>6241</td>\n",
       "      <td>8464</td>\n",
       "      <td>49</td>\n",
       "      <td>5184</td>\n",
       "      <td>441</td>\n",
       "      <td>4356</td>\n",
       "    </tr>\n",
       "    <tr>\n",
       "      <th>9974</th>\n",
       "      <td>196</td>\n",
       "      <td>2116</td>\n",
       "      <td>196</td>\n",
       "      <td>16</td>\n",
       "      <td>1296</td>\n",
       "      <td>144</td>\n",
       "    </tr>\n",
       "    <tr>\n",
       "      <th>9975</th>\n",
       "      <td>7225</td>\n",
       "      <td>1444</td>\n",
       "      <td>2601</td>\n",
       "      <td>361</td>\n",
       "      <td>1936</td>\n",
       "      <td>2025</td>\n",
       "    </tr>\n",
       "    <tr>\n",
       "      <th>9976</th>\n",
       "      <td>841</td>\n",
       "      <td>4356</td>\n",
       "      <td>2116</td>\n",
       "      <td>9216</td>\n",
       "      <td>9409</td>\n",
       "      <td>9801</td>\n",
       "    </tr>\n",
       "    <tr>\n",
       "      <th>9977</th>\n",
       "      <td>5776</td>\n",
       "      <td>625</td>\n",
       "      <td>841</td>\n",
       "      <td>1849</td>\n",
       "      <td>4624</td>\n",
       "      <td>4096</td>\n",
       "    </tr>\n",
       "    <tr>\n",
       "      <th>9978</th>\n",
       "      <td>676</td>\n",
       "      <td>6889</td>\n",
       "      <td>16</td>\n",
       "      <td>8836</td>\n",
       "      <td>5329</td>\n",
       "      <td>1</td>\n",
       "    </tr>\n",
       "    <tr>\n",
       "      <th>9979</th>\n",
       "      <td>361</td>\n",
       "      <td>7056</td>\n",
       "      <td>2401</td>\n",
       "      <td>5329</td>\n",
       "      <td>7396</td>\n",
       "      <td>289</td>\n",
       "    </tr>\n",
       "    <tr>\n",
       "      <th>9980</th>\n",
       "      <td>121</td>\n",
       "      <td>169</td>\n",
       "      <td>5184</td>\n",
       "      <td>1681</td>\n",
       "      <td>36</td>\n",
       "      <td>49</td>\n",
       "    </tr>\n",
       "    <tr>\n",
       "      <th>9981</th>\n",
       "      <td>36</td>\n",
       "      <td>9801</td>\n",
       "      <td>841</td>\n",
       "      <td>9801</td>\n",
       "      <td>36</td>\n",
       "      <td>576</td>\n",
       "    </tr>\n",
       "    <tr>\n",
       "      <th>9982</th>\n",
       "      <td>361</td>\n",
       "      <td>3136</td>\n",
       "      <td>1600</td>\n",
       "      <td>8281</td>\n",
       "      <td>5776</td>\n",
       "      <td>361</td>\n",
       "    </tr>\n",
       "    <tr>\n",
       "      <th>9983</th>\n",
       "      <td>324</td>\n",
       "      <td>7744</td>\n",
       "      <td>6724</td>\n",
       "      <td>1089</td>\n",
       "      <td>1296</td>\n",
       "      <td>2500</td>\n",
       "    </tr>\n",
       "    <tr>\n",
       "      <th>9984</th>\n",
       "      <td>289</td>\n",
       "      <td>6241</td>\n",
       "      <td>121</td>\n",
       "      <td>4225</td>\n",
       "      <td>36</td>\n",
       "      <td>529</td>\n",
       "    </tr>\n",
       "    <tr>\n",
       "      <th>9985</th>\n",
       "      <td>4356</td>\n",
       "      <td>5625</td>\n",
       "      <td>7569</td>\n",
       "      <td>6241</td>\n",
       "      <td>7569</td>\n",
       "      <td>5776</td>\n",
       "    </tr>\n",
       "    <tr>\n",
       "      <th>9986</th>\n",
       "      <td>3844</td>\n",
       "      <td>1764</td>\n",
       "      <td>3481</td>\n",
       "      <td>5041</td>\n",
       "      <td>1089</td>\n",
       "      <td>4900</td>\n",
       "    </tr>\n",
       "    <tr>\n",
       "      <th>9987</th>\n",
       "      <td>5776</td>\n",
       "      <td>2704</td>\n",
       "      <td>6561</td>\n",
       "      <td>7744</td>\n",
       "      <td>100</td>\n",
       "      <td>1369</td>\n",
       "    </tr>\n",
       "    <tr>\n",
       "      <th>9988</th>\n",
       "      <td>2601</td>\n",
       "      <td>441</td>\n",
       "      <td>7744</td>\n",
       "      <td>4</td>\n",
       "      <td>1296</td>\n",
       "      <td>7921</td>\n",
       "    </tr>\n",
       "    <tr>\n",
       "      <th>9989</th>\n",
       "      <td>64</td>\n",
       "      <td>6084</td>\n",
       "      <td>36</td>\n",
       "      <td>625</td>\n",
       "      <td>4624</td>\n",
       "      <td>9216</td>\n",
       "    </tr>\n",
       "    <tr>\n",
       "      <th>9990</th>\n",
       "      <td>49</td>\n",
       "      <td>9025</td>\n",
       "      <td>9025</td>\n",
       "      <td>1225</td>\n",
       "      <td>4</td>\n",
       "      <td>441</td>\n",
       "    </tr>\n",
       "    <tr>\n",
       "      <th>9991</th>\n",
       "      <td>8281</td>\n",
       "      <td>2916</td>\n",
       "      <td>121</td>\n",
       "      <td>576</td>\n",
       "      <td>7225</td>\n",
       "      <td>9801</td>\n",
       "    </tr>\n",
       "    <tr>\n",
       "      <th>9992</th>\n",
       "      <td>8836</td>\n",
       "      <td>1600</td>\n",
       "      <td>8836</td>\n",
       "      <td>1089</td>\n",
       "      <td>3844</td>\n",
       "      <td>529</td>\n",
       "    </tr>\n",
       "    <tr>\n",
       "      <th>9993</th>\n",
       "      <td>1444</td>\n",
       "      <td>2116</td>\n",
       "      <td>7396</td>\n",
       "      <td>361</td>\n",
       "      <td>4624</td>\n",
       "      <td>2916</td>\n",
       "    </tr>\n",
       "    <tr>\n",
       "      <th>9994</th>\n",
       "      <td>4900</td>\n",
       "      <td>121</td>\n",
       "      <td>676</td>\n",
       "      <td>9216</td>\n",
       "      <td>9604</td>\n",
       "      <td>3481</td>\n",
       "    </tr>\n",
       "    <tr>\n",
       "      <th>9995</th>\n",
       "      <td>5041</td>\n",
       "      <td>6400</td>\n",
       "      <td>784</td>\n",
       "      <td>6400</td>\n",
       "      <td>400</td>\n",
       "      <td>1600</td>\n",
       "    </tr>\n",
       "    <tr>\n",
       "      <th>9996</th>\n",
       "      <td>1225</td>\n",
       "      <td>4900</td>\n",
       "      <td>6241</td>\n",
       "      <td>961</td>\n",
       "      <td>784</td>\n",
       "      <td>5184</td>\n",
       "    </tr>\n",
       "    <tr>\n",
       "      <th>9997</th>\n",
       "      <td>9025</td>\n",
       "      <td>529</td>\n",
       "      <td>1</td>\n",
       "      <td>8281</td>\n",
       "      <td>121</td>\n",
       "      <td>900</td>\n",
       "    </tr>\n",
       "    <tr>\n",
       "      <th>9998</th>\n",
       "      <td>36</td>\n",
       "      <td>36</td>\n",
       "      <td>256</td>\n",
       "      <td>400</td>\n",
       "      <td>9801</td>\n",
       "      <td>9409</td>\n",
       "    </tr>\n",
       "    <tr>\n",
       "      <th>9999</th>\n",
       "      <td>7921</td>\n",
       "      <td>36</td>\n",
       "      <td>2500</td>\n",
       "      <td>36</td>\n",
       "      <td>841</td>\n",
       "      <td>2809</td>\n",
       "    </tr>\n",
       "  </tbody>\n",
       "</table>\n",
       "<p>10000 rows × 6 columns</p>\n",
       "</div>"
      ],
      "text/plain": [
       "         0     1     2     3     4     5\n",
       "0      961    64  1764  5776   400  6889\n",
       "1     6084  1444   625   529  4624  4225\n",
       "2     5625  9216  6084   961  8100  5476\n",
       "3     7744  2304  6561  7396   400  8100\n",
       "4     2025  3969     1  1156  1681   196\n",
       "5     3136  1764    16    49  9216    25\n",
       "6     6889  7569  7225  5041   400   361\n",
       "7       64   144  6241  1681  6561  3364\n",
       "8     4761  1764  9604  8836  1296  2809\n",
       "9     2601   289   484  2209  1024  1849\n",
       "10      36    16    36  3844  3844  1521\n",
       "11    8281  2916  3721  4356     9  5625\n",
       "12     841   169  6889  8281     9   441\n",
       "13     256  8100   529  4096  2704  4761\n",
       "14    5476   841  1024    81  1849   441\n",
       "15       9  9801  3844   196  3600   144\n",
       "16    9801  2809  7569   676  7396  7056\n",
       "17    1296   784  3969  4900   576  3721\n",
       "18    8100     9  1296  7056  1521     9\n",
       "19    2209  7056  1089  7396  1681  4489\n",
       "20     625  2500  4356   441    25  4096\n",
       "21      25    16  1849  3136  8836  5476\n",
       "22     256  3721  3364   169  9604  4489\n",
       "23    4096    81  9604   625   529  4489\n",
       "24    2116  4489  1156  8649  5929   900\n",
       "25    3721  1764  5476  5625  3844  9216\n",
       "26    1296   441  1296   324  1296  4096\n",
       "27     400  7225  7744  1681   361   441\n",
       "28    7056  7225   400  5625  3721  1369\n",
       "29    1024   400   900   289  4624     4\n",
       "...    ...   ...   ...   ...   ...   ...\n",
       "9970   289  3969   729    81   529  5625\n",
       "9971  4761   400  8836  9025  9216  3481\n",
       "9972   289  2025  8100  7921  3844  1444\n",
       "9973  6241  8464    49  5184   441  4356\n",
       "9974   196  2116   196    16  1296   144\n",
       "9975  7225  1444  2601   361  1936  2025\n",
       "9976   841  4356  2116  9216  9409  9801\n",
       "9977  5776   625   841  1849  4624  4096\n",
       "9978   676  6889    16  8836  5329     1\n",
       "9979   361  7056  2401  5329  7396   289\n",
       "9980   121   169  5184  1681    36    49\n",
       "9981    36  9801   841  9801    36   576\n",
       "9982   361  3136  1600  8281  5776   361\n",
       "9983   324  7744  6724  1089  1296  2500\n",
       "9984   289  6241   121  4225    36   529\n",
       "9985  4356  5625  7569  6241  7569  5776\n",
       "9986  3844  1764  3481  5041  1089  4900\n",
       "9987  5776  2704  6561  7744   100  1369\n",
       "9988  2601   441  7744     4  1296  7921\n",
       "9989    64  6084    36   625  4624  9216\n",
       "9990    49  9025  9025  1225     4   441\n",
       "9991  8281  2916   121   576  7225  9801\n",
       "9992  8836  1600  8836  1089  3844   529\n",
       "9993  1444  2116  7396   361  4624  2916\n",
       "9994  4900   121   676  9216  9604  3481\n",
       "9995  5041  6400   784  6400   400  1600\n",
       "9996  1225  4900  6241   961   784  5184\n",
       "9997  9025   529     1  8281   121   900\n",
       "9998    36    36   256   400  9801  9409\n",
       "9999  7921    36  2500    36   841  2809\n",
       "\n",
       "[10000 rows x 6 columns]"
      ]
     },
     "execution_count": 24,
     "metadata": {},
     "output_type": "execute_result"
    }
   ],
   "source": [
    "import pandas as pd\n",
    "import numpy as np\n",
    "from tqdm import tqdm\n",
    "\n",
    "df = pd.DataFrame(np.random.randint(0, 100, (100_00, 6)))\n",
    "\n",
    "# Register `pandas.progress_apply` and `pandas.Series.map_apply` with `tqdm`\n",
    "# (can use `tqdm_gui`, `tqdm_notebook`, optional kwargs, etc.)\n",
    "tqdm.pandas(desc=\"my bar!\")\n",
    "\n",
    "# Now you can use `progress_apply` instead of `apply`\n",
    "# and `progress_map` instead of `map`\n",
    "df.progress_apply(lambda x: x**2)\n",
    "# can also groupby:\n",
    "# df.groupby(0).progress_apply(lambda x: x**2)"
   ]
  },
  {
   "cell_type": "markdown",
   "metadata": {},
   "source": [
    "### Writing messages\n",
    "\n",
    "Since `tqdm` uses a simple printing mechanism to display progress bars, you should not write any message in the terminal using `print()` while a progressbar is open.\n",
    "\n",
    "To write messages in the terminal without any collision with `tqdm` bar display, a `.write()` method is provided:"
   ]
  },
  {
   "cell_type": "code",
   "execution_count": 25,
   "metadata": {},
   "outputs": [
    {
     "name": "stderr",
     "output_type": "stream",
     "text": [
      " 20%|██        | 2/10 [00:00<00:00,  9.40it/s]"
     ]
    },
    {
     "name": "stdout",
     "output_type": "stream",
     "text": [
      "Done task 0\n"
     ]
    },
    {
     "name": "stderr",
     "output_type": "stream",
     "text": [
      " 50%|█████     | 5/10 [00:00<00:00,  9.50it/s]"
     ]
    },
    {
     "name": "stdout",
     "output_type": "stream",
     "text": [
      "Done task 3\n"
     ]
    },
    {
     "name": "stderr",
     "output_type": "stream",
     "text": [
      " 80%|████████  | 8/10 [00:00<00:00,  9.49it/s]"
     ]
    },
    {
     "name": "stdout",
     "output_type": "stream",
     "text": [
      "Done task 6\n"
     ]
    },
    {
     "name": "stderr",
     "output_type": "stream",
     "text": [
      "100%|██████████| 10/10 [00:01<00:00,  9.42it/s]"
     ]
    },
    {
     "name": "stdout",
     "output_type": "stream",
     "text": [
      "Done task 9\n"
     ]
    },
    {
     "name": "stderr",
     "output_type": "stream",
     "text": [
      "\n"
     ]
    }
   ],
   "source": [
    "from tqdm import tqdm, trange\n",
    "from time import sleep\n",
    "\n",
    "bar = trange(10)\n",
    "for i in bar:\n",
    "    # Print using tqdm class method .write()\n",
    "    sleep(0.1)\n",
    "    if not (i % 3):\n",
    "        tqdm.write(\"Done task %i\" % i)\n",
    "    # Can also use bar.write()"
   ]
  },
  {
   "cell_type": "markdown",
   "metadata": {},
   "source": [
    "---"
   ]
  },
  {
   "cell_type": "markdown",
   "metadata": {},
   "source": [
    "## Do your own experiments here 👇\n",
    "\n",
    "Try `tqdm` youself by adding your code below and running your own experiments."
   ]
  },
  {
   "cell_type": "code",
   "execution_count": null,
   "metadata": {},
   "outputs": [],
   "source": [
    "import tqdm\n",
    "\n",
    "# your code here\n",
    "tqdm."
   ]
  }
 ],
 "metadata": {
  "kernelspec": {
   "display_name": "Python 3",
   "language": "python",
   "name": "python3"
  },
  "language_info": {
   "codemirror_mode": {
    "name": "ipython",
    "version": 3
   },
   "file_extension": ".py",
   "mimetype": "text/x-python",
   "name": "python",
   "nbconvert_exporter": "python",
   "pygments_lexer": "ipython3",
   "version": "3.6.5"
  }
 },
 "nbformat": 4,
 "nbformat_minor": 2
}
